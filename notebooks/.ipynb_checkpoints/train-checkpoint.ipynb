{
 "cells": [
  {
   "cell_type": "code",
   "execution_count": 2,
   "id": "de9baa5b-65fa-46b6-b1e7-759bb393a30b",
   "metadata": {},
   "outputs": [
    {
     "name": "stdout",
     "output_type": "stream",
     "text": [
      "Eğitim etiketi örnekleri:\n",
      "   ID  Disease_Risk  DR  ARMD  MH  DN  MYA  BRVO  TSLN  ERM  ...  CME  PTCR  \\\n",
      "0   1             1   1     0   0   0    0     0     0    0  ...    0     0   \n",
      "1   2             1   1     0   0   0    0     0     0    0  ...    0     0   \n",
      "2   3             1   1     0   0   0    0     0     0    0  ...    0     0   \n",
      "3   4             1   0     0   1   0    0     0     0    0  ...    0     0   \n",
      "4   5             1   1     0   0   0    0     0     0    0  ...    0     0   \n",
      "\n",
      "   CF  VH  MCA  VS  BRAO  PLQ  HPED  CL  \n",
      "0   0   0    0   0     0    0     0   0  \n",
      "1   0   0    0   0     0    0     0   0  \n",
      "2   0   0    0   0     0    0     0   0  \n",
      "3   0   0    0   0     0    0     0   0  \n",
      "4   0   0    0   0     0    0     0   0  \n",
      "\n",
      "[5 rows x 47 columns]\n"
     ]
    },
    {
     "ename": "KeyError",
     "evalue": "'Image No'",
     "output_type": "error",
     "traceback": [
      "\u001b[1;31m---------------------------------------------------------------------------\u001b[0m",
      "\u001b[1;31mKeyError\u001b[0m                                  Traceback (most recent call last)",
      "File \u001b[1;32mC:\\Anaconda\\Lib\\site-packages\\pandas\\core\\indexes\\base.py:3791\u001b[0m, in \u001b[0;36mIndex.get_loc\u001b[1;34m(self, key)\u001b[0m\n\u001b[0;32m   3790\u001b[0m \u001b[38;5;28;01mtry\u001b[39;00m:\n\u001b[1;32m-> 3791\u001b[0m     \u001b[38;5;28;01mreturn\u001b[39;00m \u001b[38;5;28mself\u001b[39m\u001b[38;5;241m.\u001b[39m_engine\u001b[38;5;241m.\u001b[39mget_loc(casted_key)\n\u001b[0;32m   3792\u001b[0m \u001b[38;5;28;01mexcept\u001b[39;00m \u001b[38;5;167;01mKeyError\u001b[39;00m \u001b[38;5;28;01mas\u001b[39;00m err:\n",
      "File \u001b[1;32mindex.pyx:152\u001b[0m, in \u001b[0;36mpandas._libs.index.IndexEngine.get_loc\u001b[1;34m()\u001b[0m\n",
      "File \u001b[1;32mindex.pyx:181\u001b[0m, in \u001b[0;36mpandas._libs.index.IndexEngine.get_loc\u001b[1;34m()\u001b[0m\n",
      "File \u001b[1;32mpandas\\_libs\\hashtable_class_helper.pxi:7080\u001b[0m, in \u001b[0;36mpandas._libs.hashtable.PyObjectHashTable.get_item\u001b[1;34m()\u001b[0m\n",
      "File \u001b[1;32mpandas\\_libs\\hashtable_class_helper.pxi:7088\u001b[0m, in \u001b[0;36mpandas._libs.hashtable.PyObjectHashTable.get_item\u001b[1;34m()\u001b[0m\n",
      "\u001b[1;31mKeyError\u001b[0m: 'Image No'",
      "\nThe above exception was the direct cause of the following exception:\n",
      "\u001b[1;31mKeyError\u001b[0m                                  Traceback (most recent call last)",
      "Cell \u001b[1;32mIn[2], line 29\u001b[0m\n\u001b[0;32m     26\u001b[0m \u001b[38;5;28mprint\u001b[39m(df_train\u001b[38;5;241m.\u001b[39mhead())\n\u001b[0;32m     28\u001b[0m \u001b[38;5;66;03m# 🔗 4. Görsel Yolunu Ekle (PNG uzantılı)\u001b[39;00m\n\u001b[1;32m---> 29\u001b[0m df_train[\u001b[38;5;124m\"\u001b[39m\u001b[38;5;124mimage_path\u001b[39m\u001b[38;5;124m\"\u001b[39m] \u001b[38;5;241m=\u001b[39m df_train[\u001b[38;5;124m\"\u001b[39m\u001b[38;5;124mImage No\u001b[39m\u001b[38;5;124m\"\u001b[39m]\u001b[38;5;241m.\u001b[39mapply(\u001b[38;5;28;01mlambda\u001b[39;00m x: os\u001b[38;5;241m.\u001b[39mpath\u001b[38;5;241m.\u001b[39mjoin(train_img_dir, x\u001b[38;5;241m.\u001b[39mreplace(\u001b[38;5;124m\"\u001b[39m\u001b[38;5;124m.jpg\u001b[39m\u001b[38;5;124m\"\u001b[39m, \u001b[38;5;124m\"\u001b[39m\u001b[38;5;124m.png\u001b[39m\u001b[38;5;124m\"\u001b[39m)))\n\u001b[0;32m     31\u001b[0m \u001b[38;5;66;03m# 🖼️ 5. Örnek Görsel Göster\u001b[39;00m\n\u001b[0;32m     32\u001b[0m sample_path \u001b[38;5;241m=\u001b[39m df_train[\u001b[38;5;124m\"\u001b[39m\u001b[38;5;124mimage_path\u001b[39m\u001b[38;5;124m\"\u001b[39m]\u001b[38;5;241m.\u001b[39miloc[\u001b[38;5;241m0\u001b[39m]\n",
      "File \u001b[1;32mC:\\Anaconda\\Lib\\site-packages\\pandas\\core\\frame.py:3893\u001b[0m, in \u001b[0;36mDataFrame.__getitem__\u001b[1;34m(self, key)\u001b[0m\n\u001b[0;32m   3891\u001b[0m \u001b[38;5;28;01mif\u001b[39;00m \u001b[38;5;28mself\u001b[39m\u001b[38;5;241m.\u001b[39mcolumns\u001b[38;5;241m.\u001b[39mnlevels \u001b[38;5;241m>\u001b[39m \u001b[38;5;241m1\u001b[39m:\n\u001b[0;32m   3892\u001b[0m     \u001b[38;5;28;01mreturn\u001b[39;00m \u001b[38;5;28mself\u001b[39m\u001b[38;5;241m.\u001b[39m_getitem_multilevel(key)\n\u001b[1;32m-> 3893\u001b[0m indexer \u001b[38;5;241m=\u001b[39m \u001b[38;5;28mself\u001b[39m\u001b[38;5;241m.\u001b[39mcolumns\u001b[38;5;241m.\u001b[39mget_loc(key)\n\u001b[0;32m   3894\u001b[0m \u001b[38;5;28;01mif\u001b[39;00m is_integer(indexer):\n\u001b[0;32m   3895\u001b[0m     indexer \u001b[38;5;241m=\u001b[39m [indexer]\n",
      "File \u001b[1;32mC:\\Anaconda\\Lib\\site-packages\\pandas\\core\\indexes\\base.py:3798\u001b[0m, in \u001b[0;36mIndex.get_loc\u001b[1;34m(self, key)\u001b[0m\n\u001b[0;32m   3793\u001b[0m     \u001b[38;5;28;01mif\u001b[39;00m \u001b[38;5;28misinstance\u001b[39m(casted_key, \u001b[38;5;28mslice\u001b[39m) \u001b[38;5;129;01mor\u001b[39;00m (\n\u001b[0;32m   3794\u001b[0m         \u001b[38;5;28misinstance\u001b[39m(casted_key, abc\u001b[38;5;241m.\u001b[39mIterable)\n\u001b[0;32m   3795\u001b[0m         \u001b[38;5;129;01mand\u001b[39;00m \u001b[38;5;28many\u001b[39m(\u001b[38;5;28misinstance\u001b[39m(x, \u001b[38;5;28mslice\u001b[39m) \u001b[38;5;28;01mfor\u001b[39;00m x \u001b[38;5;129;01min\u001b[39;00m casted_key)\n\u001b[0;32m   3796\u001b[0m     ):\n\u001b[0;32m   3797\u001b[0m         \u001b[38;5;28;01mraise\u001b[39;00m InvalidIndexError(key)\n\u001b[1;32m-> 3798\u001b[0m     \u001b[38;5;28;01mraise\u001b[39;00m \u001b[38;5;167;01mKeyError\u001b[39;00m(key) \u001b[38;5;28;01mfrom\u001b[39;00m \u001b[38;5;21;01merr\u001b[39;00m\n\u001b[0;32m   3799\u001b[0m \u001b[38;5;28;01mexcept\u001b[39;00m \u001b[38;5;167;01mTypeError\u001b[39;00m:\n\u001b[0;32m   3800\u001b[0m     \u001b[38;5;66;03m# If we have a listlike key, _check_indexing_error will raise\u001b[39;00m\n\u001b[0;32m   3801\u001b[0m     \u001b[38;5;66;03m#  InvalidIndexError. Otherwise we fall through and re-raise\u001b[39;00m\n\u001b[0;32m   3802\u001b[0m     \u001b[38;5;66;03m#  the TypeError.\u001b[39;00m\n\u001b[0;32m   3803\u001b[0m     \u001b[38;5;28mself\u001b[39m\u001b[38;5;241m.\u001b[39m_check_indexing_error(key)\n",
      "\u001b[1;31mKeyError\u001b[0m: 'Image No'"
     ]
    }
   ],
   "source": [
    "# RFMiD Retina Hastalık Tespiti - Model Eğitim Notebook'u\n",
    "\n",
    "# 📦 1. Gerekli Kütüphaneler\n",
    "import pandas as pd\n",
    "import os\n",
    "import matplotlib.pyplot as plt\n",
    "from PIL import Image\n",
    "import numpy as np\n",
    "\n",
    "# 📁 2. Dosya Yolları\n",
    "base_dir = r\"D:/Yapay zeka eğitme/Erhan Hoca Proje/RFMiD/data\"\n",
    "train_img_dir = os.path.join(base_dir, \"train\")\n",
    "val_img_dir = os.path.join(base_dir, \"validation\")\n",
    "test_img_dir = os.path.join(base_dir, \"test\")\n",
    "\n",
    "train_csv = os.path.join(base_dir, \"RFMiD_Training_Labels.csv\")\n",
    "val_csv = os.path.join(base_dir, \"RFMiD_Validation_Labels.csv\")\n",
    "test_csv = os.path.join(base_dir, \"RFMiD_Testing_Labels.csv\")\n",
    "\n",
    "# ✅ 3. Eğitim Etiketlerini Güvenli Şekilde Yükle\n",
    "if not os.path.exists(train_csv):\n",
    "    raise FileNotFoundError(f\"Etiket dosyası bulunamadı: {train_csv}\\nLütfen dosya yolunun doğru olduğundan emin olun.\")\n",
    "\n",
    "df_train = pd.read_csv(train_csv)\n",
    "print(\"Eğitim etiketi örnekleri:\")\n",
    "print(df_train.head())\n",
    "\n",
    "# 🔗 4. Görsel Yolunu Ekle (PNG uzantılı)\n",
    "df_train[\"image_path\"] = df_train[\"Image No\"].apply(lambda x: os.path.join(train_img_dir, x.replace(\".jpg\", \".png\")))\n",
    "\n",
    "# 🖼️ 5. Örnek Görsel Göster\n",
    "sample_path = df_train[\"image_path\"].iloc[0]\n",
    "if not os.path.exists(sample_path):\n",
    "    raise FileNotFoundError(f\"Görsel bulunamadı: {sample_path}\\nLütfen 'train' klasörünün içinde doğru .png dosyaları olduğundan emin olun.\")\n",
    "\n",
    "img = Image.open(sample_path)\n",
    "\n",
    "plt.imshow(img)\n",
    "plt.title(f\"Görsel: {df_train['Image No'].iloc[0]}\")\n",
    "plt.axis(\"off\")\n",
    "plt.show()\n",
    "\n",
    "# 🔎 6. Çoklu Etiket Kontrolü\n",
    "label_columns = df_train.columns[1:-1]  # Image No hariç, Normal dahil\n",
    "print(\"Etiket sütunları:\", label_columns.tolist())\n",
    "\n",
    "# Görsel başına kaç etiket var?\n",
    "df_train[\"label_count\"] = df_train[label_columns].sum(axis=1)\n",
    "print(\"Ortalama etiket sayısı:\", df_train[\"label_count\"].mean())\n",
    "\n",
    "# 📊 7. Etiket Dağılımı\n",
    "label_counts = df_train[label_columns].sum().sort_values(ascending=False)\n",
    "plt.figure(figsize=(10, 5))\n",
    "label_counts.plot(kind=\"bar\")\n",
    "plt.title(\"Toplam Görsel Sayısı (Her Hastalık)\")\n",
    "plt.xlabel(\"Hastalık\")\n",
    "plt.ylabel(\"Adet\")\n",
    "plt.grid(True)\n",
    "plt.tight_layout()\n",
    "plt.show()\n"
   ]
  },
  {
   "cell_type": "code",
   "execution_count": 3,
   "id": "6efa86fb-48cb-4e6c-87cf-63ec26e001c0",
   "metadata": {},
   "outputs": [
    {
     "name": "stdout",
     "output_type": "stream",
     "text": [
      "Index(['ID', 'Disease_Risk', 'DR', 'ARMD', 'MH', 'DN', 'MYA', 'BRVO', 'TSLN',\n",
      "       'ERM', 'LS', 'MS', 'CSR', 'ODC', 'CRVO', 'TV', 'AH', 'ODP', 'ODE', 'ST',\n",
      "       'AION', 'PT', 'RT', 'RS', 'CRS', 'EDN', 'RPEC', 'MHL', 'RP', 'CWS',\n",
      "       'CB', 'ODPM', 'PRH', 'MNF', 'HR', 'CRAO', 'TD', 'CME', 'PTCR', 'CF',\n",
      "       'VH', 'MCA', 'VS', 'BRAO', 'PLQ', 'HPED', 'CL'],\n",
      "      dtype='object')\n"
     ]
    }
   ],
   "source": [
    "print(df_train.columns)\n",
    "\n"
   ]
  },
  {
   "cell_type": "code",
   "execution_count": null,
   "id": "befe0524-dc1e-42e7-8606-f075faf8582c",
   "metadata": {},
   "outputs": [],
   "source": []
  }
 ],
 "metadata": {
  "kernelspec": {
   "display_name": "Python 3 (ipykernel)",
   "language": "python",
   "name": "python3"
  },
  "language_info": {
   "codemirror_mode": {
    "name": "ipython",
    "version": 3
   },
   "file_extension": ".py",
   "mimetype": "text/x-python",
   "name": "python",
   "nbconvert_exporter": "python",
   "pygments_lexer": "ipython3",
   "version": "3.11.7"
  }
 },
 "nbformat": 4,
 "nbformat_minor": 5
}
